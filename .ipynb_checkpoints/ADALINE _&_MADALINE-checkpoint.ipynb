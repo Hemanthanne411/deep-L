{
 "cells": [
  {
   "cell_type": "code",
   "execution_count": 14,
   "id": "ad2f707c-95c1-4d2e-aa38-69cecf4ecba4",
   "metadata": {},
   "outputs": [
    {
     "name": "stdout",
     "output_type": "stream",
     "text": [
      "Predictions: [-1 -1 -1  1]\n",
      "Weights: [0.42081015 0.41647608]\n",
      "Bias: -0.7974147173514837\n"
     ]
    }
   ],
   "source": [
    "# ADALINE FOR  AND GATE \n",
    "import numpy as np\n",
    "\n",
    "def fit_adaline(X, y, learning_rate=0.01, epochs=50):\n",
    "    # Initialize weights and bias\n",
    "    weights = np.zeros(X.shape[1])\n",
    "    bias = 0.0\n",
    "\n",
    "    for _ in range(epochs):\n",
    "        for xi, target in zip(X, y):     # zip() to iterate multiple variables at same time \n",
    "            \n",
    "            # Calculate the net input\n",
    "            net_input = np.dot(xi, weights) + bias\n",
    "            \n",
    "            # Calculate the output\n",
    "            output = net_input  # Linear activation\n",
    "            \n",
    "            # Calculate the error\n",
    "            error = target - output\n",
    "            \n",
    "            # Update the weights and bias\n",
    "            weights += learning_rate * error * xi\n",
    "            bias += learning_rate * error\n",
    "\n",
    "    return weights, bias\n",
    "\n",
    "\n",
    "def predict(X, weights, bias):\n",
    "    output=np.dot(X, weights) + bias\n",
    "    return np.where(output >= 0.0, 1, -1)\n",
    "\n",
    "# Example usage\n",
    "if __name__ == \"__main__\":\n",
    "    # Example dataset (AND logic gate)\n",
    "    X = np.array([[0, 0], [0, 1], [1, 0], [1, 1]])\n",
    "    y = np.array([-1, -1, -1, 1])\n",
    "\n",
    "    # Train Adaline model\n",
    "    learning_rate = 0.01\n",
    "    epochs = 100\n",
    "    weights, bias = fit_adaline(X, y, learning_rate, epochs)\n",
    "\n",
    "    # Predictions\n",
    "    predictions = predict(X, weights, bias)\n",
    "    print(\"Predictions:\", predictions)\n",
    "    print(\"Weights:\", weights)\n",
    "    print(\"Bias:\", bias)\n"
   ]
  },
  {
   "cell_type": "code",
   "execution_count": 18,
   "id": "49cc10ca-08cf-4edf-9598-3bab91fd4e2b",
   "metadata": {},
   "outputs": [
    {
     "name": "stdout",
     "output_type": "stream",
     "text": [
      "weights is :[0.42081015 0.41647608]\n",
      "bias is : [-0.79741472]\n",
      "predictions are \n",
      " [-1 -1 -1  1]\n"
     ]
    }
   ],
   "source": [
    "# ADALINE FOR AND GATE \n",
    "\n",
    "import numpy as np\n",
    "\n",
    "def fit_adaline(X,y,learning_rate=0.01,epochs=100):\n",
    "\n",
    "    #initializing random weights and bias\n",
    "    weights=np.zeros(X.shape[1])\n",
    "    bias=0.0\n",
    "\n",
    "    for _ in range(epochs):\n",
    "        for x_i,target in zip(X,y):\n",
    "\n",
    "            input=np.dot(x_i,weights) + bias\n",
    "            output=input #linear activation\n",
    "\n",
    "            error=target-output\n",
    "\n",
    "            #weights updating\n",
    "            weights+=learning_rate * error * x_i\n",
    "            bias+=learning_rate * error\n",
    "\n",
    "    return weights,bias\n",
    "\n",
    "def predict(X,weights,bias):\n",
    "    output=np.dot(X,weights)+bias\n",
    "    return np.where(output >=0.0,1,-1)\n",
    "\n",
    "if __name__==\"__main__\":\n",
    "    \n",
    "    X=np.array([[0,0],\n",
    "                [0,1],\n",
    "                [1,0],\n",
    "                [1,1]])\n",
    "    y=np.array([[-1],[-1],[-1],[1]])\n",
    "\n",
    "    weights,bias=fit_adaline(X,y)\n",
    "    predictions=predict(X,weights,bias)\n",
    "\n",
    "    print(f\"weights is :{weights}\")\n",
    "    print(f\"bias is : {bias}\")\n",
    "    print(f\"predictions are \\n {predictions}\")\n",
    "    \n",
    "\n",
    "\n",
    "\n",
    "\n",
    "\n"
   ]
  },
  {
   "cell_type": "code",
   "execution_count": 19,
   "id": "1304ae5c-65b9-46a2-ace7-31986b9036ba",
   "metadata": {},
   "outputs": [
    {
     "name": "stdout",
     "output_type": "stream",
     "text": [
      "Predictions: [-1 -1 -1  1]\n",
      "Weights: [0.04 0.02]\n",
      "Bias: -0.06\n"
     ]
    }
   ],
   "source": [
    "# MADALINE for XOR \n",
    "import numpy as np\n",
    "\n",
    "def fit_madeline(X, y, learning_rate=0.01, epochs=50):\n",
    "    # Initialize weights and bias\n",
    "    weights = np.zeros(X.shape[1])\n",
    "    bias = 0.0\n",
    "\n",
    "    for _ in range(epochs):\n",
    "        for xi, target in zip(X, y):\n",
    "            net_input = np.dot(xi, weights) + bias\n",
    "            output = np.where(net_input >= 0.0, 1, -1)\n",
    "            error = target - output\n",
    "            if error != 0:\n",
    "                weights += learning_rate * error * xi\n",
    "                bias += learning_rate * error\n",
    "\n",
    "    return weights, bias\n",
    "\n",
    "def predict(X, weights, bias):\n",
    "    output = np.dot(X, weights) + bias\n",
    "    return np.where(output >= 0.0, 1, -1)\n",
    "\n",
    "# Example usage\n",
    "if __name__ == \"__main__\":\n",
    "    # Example dataset (AND logic gate)\n",
    "    X = np.array([[0, 0], [0, 1], [1, 0], [1, 1]])\n",
    "    y = np.array([-1, -1, -1, 1])\n",
    "\n",
    "    # Train Madeline model\n",
    "    learning_rate = 0.01\n",
    "    epochs = 20\n",
    "    weights, bias = fit_madeline(X, y, learning_rate, epochs)\n",
    "\n",
    "    # Predictions\n",
    "    predictions = predict(X, weights, bias)\n",
    "    print(\"Predictions:\", predictions)\n",
    "    print(\"Weights:\", weights)\n",
    "    print(\"Bias:\", bias)\n"
   ]
  },
  {
   "cell_type": "code",
   "execution_count": null,
   "id": "45773906-4596-4e53-bdf1-6f7908fc3cbe",
   "metadata": {},
   "outputs": [],
   "source": []
  }
 ],
 "metadata": {
  "kernelspec": {
   "display_name": "Python 3 (ipykernel)",
   "language": "python",
   "name": "python3"
  },
  "language_info": {
   "codemirror_mode": {
    "name": "ipython",
    "version": 3
   },
   "file_extension": ".py",
   "mimetype": "text/x-python",
   "name": "python",
   "nbconvert_exporter": "python",
   "pygments_lexer": "ipython3",
   "version": "3.11.7"
  }
 },
 "nbformat": 4,
 "nbformat_minor": 5
}
